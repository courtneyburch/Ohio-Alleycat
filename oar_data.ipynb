{
 "cells": [
  {
   "cell_type": "markdown",
   "id": "5af163cb",
   "metadata": {},
   "source": [
    "# Ohio Alleycat Resource Data Analysis\n",
    "---\n",
    "\n",
    "## In this file we will analyze adoption data collected from Ohio Alleycat Resource. We will inspect and clean three separate dataframes, relating to animals, adoptions, and adopters. We will merge these three into one dataframe to be used for analysis in Tableau.\n",
    "---"
   ]
  },
  {
   "cell_type": "code",
   "execution_count": null,
   "id": "e519a242",
   "metadata": {},
   "outputs": [],
   "source": [
    "#import the relevant python packages\n",
    "import pandas as pd\n",
    "import numpy as np\n",
    "import matplotlib.pyplot as plt\n",
    "import seaborn as sns"
   ]
  },
  {
   "cell_type": "code",
   "execution_count": null,
   "id": "97cf415d",
   "metadata": {},
   "outputs": [],
   "source": [
    "#Show all columns of out dataframe\n",
    "pd.set_option(\"max_columns\", None)"
   ]
  },
  {
   "cell_type": "markdown",
   "id": "f9e6df99",
   "metadata": {},
   "source": [
    "---\n",
    "## First we will analyze the adopters data. "
   ]
  },
  {
   "cell_type": "code",
   "execution_count": null,
   "id": "3728c193",
   "metadata": {},
   "outputs": [],
   "source": [
    "adopters = pd.read_csv('./data/adopters.csv')"
   ]
  },
  {
   "cell_type": "code",
   "execution_count": null,
   "id": "d4f453f6",
   "metadata": {
    "scrolled": false
   },
   "outputs": [],
   "source": [
    "adopters.head()"
   ]
  },
  {
   "cell_type": "code",
   "execution_count": null,
   "id": "f856e286",
   "metadata": {},
   "outputs": [],
   "source": [
    "adopters.info()"
   ]
  },
  {
   "cell_type": "markdown",
   "id": "e5b70f83",
   "metadata": {},
   "source": [
    "---\n",
    "### We can see that the OWNERCOUNTY value actually contains the state of the adress field, but the formatting of some values is different and there are various mispellings. For example, \"OH\" and \"Ohio\"."
   ]
  },
  {
   "cell_type": "code",
   "execution_count": null,
   "id": "ba5ebbe8",
   "metadata": {
    "scrolled": true
   },
   "outputs": [],
   "source": [
    "adopters['OWNERCOUNTY'].value_counts()"
   ]
  },
  {
   "cell_type": "markdown",
   "id": "ba83adc1",
   "metadata": {},
   "source": [
    "### First, we will address the various forms of Ohio and replace them all with OH. "
   ]
  },
  {
   "cell_type": "code",
   "execution_count": null,
   "id": "47aa8e09",
   "metadata": {},
   "outputs": [],
   "source": [
    "adopters['OWNERCOUNTY'].replace(['Ohio', 'Oh', 'oh', 'ohio', 'OHIO', 'Ohip', 'OH.US', 'Ohiop', 'OH - Ohio', 'OB', 'Oh,ohio', 'Ohi', 'Ohii'], 'OH', inplace = True)"
   ]
  },
  {
   "cell_type": "code",
   "execution_count": null,
   "id": "422cbb9e",
   "metadata": {},
   "outputs": [],
   "source": [
    "adopters['OWNERCOUNTY'].value_counts()"
   ]
  },
  {
   "cell_type": "markdown",
   "id": "5a32605e",
   "metadata": {},
   "source": [
    "### That fixed the Ohio values. We will also fix the problems with Kentucky and Indiana, and replace other states with their abbreviations."
   ]
  },
  {
   "cell_type": "code",
   "execution_count": null,
   "id": "24127a70",
   "metadata": {},
   "outputs": [],
   "source": [
    "adopters['OWNERCOUNTY'].replace(['Kentucky', 'Ky', 'ky', 'KENTUCKY', 'kentucky', 'Ky - Kentucky'], 'KY', inplace = True)"
   ]
  },
  {
   "cell_type": "code",
   "execution_count": null,
   "id": "dcc83b14",
   "metadata": {},
   "outputs": [],
   "source": [
    "adopters['OWNERCOUNTY'].replace(['Indiana', 'Indiana (IN)'], 'IN', inplace = True)"
   ]
  },
  {
   "cell_type": "code",
   "execution_count": null,
   "id": "f9a546db",
   "metadata": {},
   "outputs": [],
   "source": [
    "adopters['OWNERCOUNTY'].replace(['Illinois', 'Alabama', 'Massachusetts', 'North Carolina'], ['IL', 'AL', 'MA', 'NC'], inplace = True)"
   ]
  },
  {
   "cell_type": "code",
   "execution_count": null,
   "id": "fd4d7c0a",
   "metadata": {},
   "outputs": [],
   "source": [
    "adopters['OWNERCOUNTY'].value_counts()"
   ]
  },
  {
   "cell_type": "markdown",
   "id": "4e78c503",
   "metadata": {},
   "source": [
    "### There is still one value of \"US\". Let's see what state they should be."
   ]
  },
  {
   "cell_type": "code",
   "execution_count": null,
   "id": "195e7f16",
   "metadata": {},
   "outputs": [],
   "source": [
    "adopters.loc[adopters['OWNERCOUNTY'] == 'US']"
   ]
  },
  {
   "cell_type": "markdown",
   "id": "17460d90",
   "metadata": {},
   "source": [
    "### Bellevue is in Kentucky, so we will change this to KY."
   ]
  },
  {
   "cell_type": "code",
   "execution_count": null,
   "id": "128786ce",
   "metadata": {},
   "outputs": [],
   "source": [
    "adopters['OWNERCOUNTY'].replace('US', 'KY', inplace = True)"
   ]
  },
  {
   "cell_type": "markdown",
   "id": "5d1e7684",
   "metadata": {},
   "source": [
    "---\n",
    "### Next we will strip the address from the Latitude/Longitude field and split the Latitude and Longitude into separate fields."
   ]
  },
  {
   "cell_type": "code",
   "execution_count": null,
   "id": "b0efd763",
   "metadata": {},
   "outputs": [],
   "source": [
    "#Split the LATLONG column on the commas into a list with three values. \n",
    "#The latitude is the first element and the Longitude is the second element of the list\n",
    "#The third element is the address which we discard.\n",
    "adopters['LATITUDE'] = adopters['LATLONG'].str.split(',').str[0]"
   ]
  },
  {
   "cell_type": "code",
   "execution_count": null,
   "id": "87459073",
   "metadata": {},
   "outputs": [],
   "source": [
    "adopters['LONGITUDE'] = adopters['LATLONG'].str.split(',').str[1]"
   ]
  },
  {
   "cell_type": "code",
   "execution_count": null,
   "id": "2fea36bb",
   "metadata": {
    "scrolled": false
   },
   "outputs": [],
   "source": [
    "#We can see the Latitude and Longitude columns were added\n",
    "adopters.head()"
   ]
  },
  {
   "cell_type": "code",
   "execution_count": null,
   "id": "1c7b9d2d",
   "metadata": {
    "scrolled": true
   },
   "outputs": [],
   "source": [
    "#Check for NaN in Latitude\n",
    "adopters['LATITUDE'].isnull().value_counts()"
   ]
  },
  {
   "cell_type": "markdown",
   "id": "a5ff221c",
   "metadata": {},
   "source": [
    "### We can see there are some Null values in the Latitude, so we will fill them with zeros."
   ]
  },
  {
   "cell_type": "code",
   "execution_count": null,
   "id": "39f358dc",
   "metadata": {},
   "outputs": [],
   "source": [
    "adopters['LATITUDE'] = adopters['LATITUDE'].fillna('0')"
   ]
  },
  {
   "cell_type": "code",
   "execution_count": null,
   "id": "89b79b34",
   "metadata": {},
   "outputs": [],
   "source": [
    "adopters['LATITUDE'].isnull().value_counts()"
   ]
  },
  {
   "cell_type": "markdown",
   "id": "50f67578",
   "metadata": {},
   "source": [
    "### And also fill the Null values of Longitude with zeros."
   ]
  },
  {
   "cell_type": "code",
   "execution_count": null,
   "id": "01b3e0c5",
   "metadata": {},
   "outputs": [],
   "source": [
    "adopters['LONGITUDE'].isnull().value_counts()"
   ]
  },
  {
   "cell_type": "code",
   "execution_count": null,
   "id": "f1d6a986",
   "metadata": {},
   "outputs": [],
   "source": [
    "adopters['LONGITUDE'] = adopters['LONGITUDE'].fillna('0')"
   ]
  },
  {
   "cell_type": "code",
   "execution_count": null,
   "id": "293fea69",
   "metadata": {},
   "outputs": [],
   "source": [
    "adopters['LONGITUDE'].isnull().value_counts()"
   ]
  },
  {
   "cell_type": "markdown",
   "id": "a5b0e246",
   "metadata": {},
   "source": [
    "---\n",
    "### Finally, we will rename some of the columns."
   ]
  },
  {
   "cell_type": "code",
   "execution_count": null,
   "id": "377fd5a2",
   "metadata": {},
   "outputs": [],
   "source": [
    "col_map = {'OWNERADDRESS': 'ADDRESS', 'OWNERTOWN': 'CITY', 'OWNERCOUNTY': 'STATE', 'OWNERPOSTCODE': 'ZIPCODE'}\n",
    "adopters.rename(columns = col_map, inplace=True)"
   ]
  },
  {
   "cell_type": "markdown",
   "id": "38cd7485",
   "metadata": {},
   "source": [
    "### We will also drop the columns we don't need."
   ]
  },
  {
   "cell_type": "code",
   "execution_count": null,
   "id": "75f70e7d",
   "metadata": {},
   "outputs": [],
   "source": [
    "adopters.drop(columns=['LATLONG'], axis = 1, inplace = True)"
   ]
  },
  {
   "cell_type": "markdown",
   "id": "90f3cb56",
   "metadata": {},
   "source": [
    "---\n",
    "## Now we will analyze the Animals data."
   ]
  },
  {
   "cell_type": "code",
   "execution_count": null,
   "id": "506a70c0",
   "metadata": {},
   "outputs": [],
   "source": [
    "animals = pd.read_csv('./data/animals.csv')"
   ]
  },
  {
   "cell_type": "code",
   "execution_count": null,
   "id": "771324d7",
   "metadata": {
    "scrolled": true
   },
   "outputs": [],
   "source": [
    "animals.head(10)"
   ]
  },
  {
   "cell_type": "markdown",
   "id": "6fc62d60",
   "metadata": {},
   "source": [
    "**Note: duplicate cats, such as Orry seen above, were returned from their orginal adoption and adopted again, so we will not remove the duplicate values.\n",
    "This is Orry:**\n",
    "<div>\n",
    "<img src=\"./photos/orry.jpeg\" width=\"200\"/>\n",
    "</div>"
   ]
  },
  {
   "cell_type": "code",
   "execution_count": null,
   "id": "dc263b58",
   "metadata": {
    "scrolled": true
   },
   "outputs": [],
   "source": [
    "animals.info()"
   ]
  },
  {
   "cell_type": "markdown",
   "id": "e2b07677",
   "metadata": {},
   "source": [
    "---\n",
    "### First we will address some of the coded values and change them to values that are easier to interpret. We will change the values of the 'Sex' column to male and female. 1 is male and 0 is female. "
   ]
  },
  {
   "cell_type": "code",
   "execution_count": null,
   "id": "bf1c6292",
   "metadata": {},
   "outputs": [],
   "source": [
    "animals['SEX'].replace([0, 1], ['Female', 'Male'], inplace = True)"
   ]
  },
  {
   "cell_type": "markdown",
   "id": "9c3d0d02",
   "metadata": {},
   "source": [
    "### We will also change the values of the 'Declawed' column. 0 = not declawed, 1 = declawed."
   ]
  },
  {
   "cell_type": "code",
   "execution_count": null,
   "id": "081d8174",
   "metadata": {},
   "outputs": [],
   "source": [
    "animals['DECLAWED'].replace([0, 1], ['Not Declawed', 'Declawed'], inplace = True)"
   ]
  },
  {
   "cell_type": "markdown",
   "id": "a6435f5f",
   "metadata": {},
   "source": [
    "### Next we will fill in the data for the Combitest Result. A result of 2 means the cat tested positive for Feline Immunodefciency Virus. Otherwise the cat is negative.  We will also rename this column."
   ]
  },
  {
   "cell_type": "code",
   "execution_count": null,
   "id": "32b7fc74",
   "metadata": {},
   "outputs": [],
   "source": [
    "animals['COMBITESTRESULT'].replace([[0,1],2], ['FIV-','FIV+'], inplace = True)"
   ]
  },
  {
   "cell_type": "markdown",
   "id": "b33abb3e",
   "metadata": {},
   "source": [
    "### And also we will fill in the data for the FLVRESULT field. A result of 2 means that cat tested positive for Feline Leukemia Virus. Otherwise the cat is negative. We will also rename this column."
   ]
  },
  {
   "cell_type": "code",
   "execution_count": null,
   "id": "f1eab4b3",
   "metadata": {},
   "outputs": [],
   "source": [
    "animals['FLVRESULT'].replace([[0,1],2], ['FELV-','FELV+'], inplace = True)"
   ]
  },
  {
   "cell_type": "markdown",
   "id": "f46b5e7d",
   "metadata": {},
   "source": [
    "### To check this we will look for a cat that is FIV+ and FELV-, Otto Tunes. Here is a photo of this handsome gentleman:\n",
    "<div>\n",
    "<img src=\"./photos/otto.jpeg\" width=\"200\"/>\n",
    "</div>"
   ]
  },
  {
   "cell_type": "code",
   "execution_count": null,
   "id": "62f986a7",
   "metadata": {
    "scrolled": false
   },
   "outputs": [],
   "source": [
    "animals.loc[animals['ANIMALNAME'] == 'Otto Toons']"
   ]
  },
  {
   "cell_type": "code",
   "execution_count": null,
   "id": "3b2d5a72",
   "metadata": {},
   "outputs": [],
   "source": [
    "animals.rename(columns = {'COMBITESTRESULT': 'FIV_STATUS', 'FLVRESULT': 'FELV_STATUS'}, inplace = True)"
   ]
  },
  {
   "cell_type": "markdown",
   "id": "8cf0c461",
   "metadata": {},
   "source": [
    "### We can see that the replacement worked as intended.\n",
    "---"
   ]
  },
  {
   "cell_type": "markdown",
   "id": "35282e4c",
   "metadata": {},
   "source": [
    "### To get the Base Color id, we will merge a dataframe that contains the Base Color table."
   ]
  },
  {
   "cell_type": "code",
   "execution_count": null,
   "id": "30c92c5a",
   "metadata": {},
   "outputs": [],
   "source": [
    "color = pd.read_csv('./data/coat_color.csv')"
   ]
  },
  {
   "cell_type": "code",
   "execution_count": null,
   "id": "a3110831",
   "metadata": {
    "scrolled": true
   },
   "outputs": [],
   "source": [
    "color['BASECOLOUR'].value_counts()"
   ]
  },
  {
   "cell_type": "markdown",
   "id": "85031e04",
   "metadata": {},
   "source": [
    "### This is a mess! We will replace some of the values that seem to be identical, such as \"White and Orange Tabby\" and \"Orange and White Tabby\", to reduce the number of unique values."
   ]
  },
  {
   "cell_type": "code",
   "execution_count": null,
   "id": "632d05be",
   "metadata": {
    "scrolled": false
   },
   "outputs": [],
   "source": [
    "color['BASECOLOUR'].replace(['White and Orange Tabby', \n",
    "                             'White and Buff Tabby', \n",
    "                             'White and Brown Tabby', \n",
    "                             'Brown Tabby with White', \n",
    "                             'White and Gray Tabby', \n",
    "                             'White and Silver Tabby', \n",
    "                             'White and Smoke Tabby',\n",
    "                             'White and Torbie',\n",
    "                             'White and Gray',\n",
    "                             'White and Black'], \n",
    "                            ['Orange Tabby and White', \n",
    "                             'Buff Tabby and White', \n",
    "                             'Brown Tabby and White', \n",
    "                             'Brown Tabby and White',\n",
    "                             'Gray Tabby and White', \n",
    "                             'Silver Tabby and White', \n",
    "                             'Smoke Tabby and White',\n",
    "                             'Torbie and White',\n",
    "                             'Gray and White',\n",
    "                             'Black and White'],\n",
    "                           inplace = True)"
   ]
  },
  {
   "cell_type": "code",
   "execution_count": null,
   "id": "7b5d78be",
   "metadata": {},
   "outputs": [],
   "source": [
    "color['BASECOLOUR'].sort_values().value_counts()"
   ]
  },
  {
   "cell_type": "markdown",
   "id": "43ea3312",
   "metadata": {},
   "source": [
    "### We need to rename the 'ID' column in  order to merge on the 'BASECOLOURID' in the animals dataframe."
   ]
  },
  {
   "cell_type": "code",
   "execution_count": null,
   "id": "a11a9f4d",
   "metadata": {},
   "outputs": [],
   "source": [
    "color.rename({'ID': 'BASECOLOURID'}, axis = 1, inplace = True)"
   ]
  },
  {
   "cell_type": "markdown",
   "id": "6f189a22",
   "metadata": {},
   "source": [
    "### We can drop the columns we don't need."
   ]
  },
  {
   "cell_type": "code",
   "execution_count": null,
   "id": "77a56afa",
   "metadata": {},
   "outputs": [],
   "source": [
    "color.drop(columns=['BASECOLOURDESCRIPTION', 'ADOPTAPETCOLOUR', 'ISRETIRED'], axis = 1, inplace = True)"
   ]
  },
  {
   "cell_type": "markdown",
   "id": "29076bc6",
   "metadata": {},
   "source": [
    "### Now we can merge the color and animals dataframes."
   ]
  },
  {
   "cell_type": "code",
   "execution_count": null,
   "id": "5fc54113",
   "metadata": {},
   "outputs": [],
   "source": [
    "animals = animals.merge(color, on = 'BASECOLOURID', how = 'left')"
   ]
  },
  {
   "cell_type": "code",
   "execution_count": null,
   "id": "a2624496",
   "metadata": {},
   "outputs": [],
   "source": [
    "animals.head()"
   ]
  },
  {
   "cell_type": "markdown",
   "id": "254db20e",
   "metadata": {},
   "source": [
    "### We can see the BASECOLOUR Column was added as intended.\n",
    "---"
   ]
  },
  {
   "cell_type": "markdown",
   "id": "34224bbd",
   "metadata": {},
   "source": [
    "### We will repeat these steps to get the shelter location name by merging with the shelter location table."
   ]
  },
  {
   "cell_type": "code",
   "execution_count": null,
   "id": "367ef25f",
   "metadata": {},
   "outputs": [],
   "source": [
    "shelter_location = pd.read_csv('./data/shelter_location.csv')"
   ]
  },
  {
   "cell_type": "code",
   "execution_count": null,
   "id": "39c4dfe1",
   "metadata": {
    "scrolled": true
   },
   "outputs": [],
   "source": [
    "shelter_location.rename({'ID': 'SHELTERLOCATION'}, axis = 1, inplace = True)"
   ]
  },
  {
   "cell_type": "code",
   "execution_count": null,
   "id": "93fb1c38",
   "metadata": {},
   "outputs": [],
   "source": [
    "shelter_location.drop(columns=['LOCATIONDESCRIPTION', 'UNITS', 'ISRETIRED', 'SITEID'], axis = 1, inplace = True)"
   ]
  },
  {
   "cell_type": "code",
   "execution_count": null,
   "id": "cc7b12a5",
   "metadata": {},
   "outputs": [],
   "source": [
    "animals = animals.merge(shelter_location, on = 'SHELTERLOCATION', how = 'left')"
   ]
  },
  {
   "cell_type": "code",
   "execution_count": null,
   "id": "3372f6a2",
   "metadata": {},
   "outputs": [],
   "source": [
    "animals.head()"
   ]
  },
  {
   "cell_type": "markdown",
   "id": "87fd6b10",
   "metadata": {},
   "source": [
    "---\n",
    "## Next we will bring in the adoptions data."
   ]
  },
  {
   "cell_type": "code",
   "execution_count": null,
   "id": "3a7d523e",
   "metadata": {},
   "outputs": [],
   "source": [
    "adoptions = pd.read_csv('./data/adoptions.csv')"
   ]
  },
  {
   "cell_type": "code",
   "execution_count": null,
   "id": "29db26cb",
   "metadata": {},
   "outputs": [],
   "source": [
    "adoptions.head()"
   ]
  },
  {
   "cell_type": "markdown",
   "id": "a06dc7e4",
   "metadata": {},
   "source": [
    "### The movement date is the date of the adoption, so we will rename that column to be more explanatory."
   ]
  },
  {
   "cell_type": "code",
   "execution_count": null,
   "id": "c76c72e6",
   "metadata": {},
   "outputs": [],
   "source": [
    "adoptions.rename({'MOVEMENTDATE': 'ADOPTIONDATE'}, axis = 1, inplace = True) "
   ]
  },
  {
   "cell_type": "code",
   "execution_count": null,
   "id": "f8ab2950",
   "metadata": {},
   "outputs": [],
   "source": [
    "adoptions.head()"
   ]
  },
  {
   "cell_type": "markdown",
   "id": "6d62fc22",
   "metadata": {},
   "source": [
    "---\n",
    "# Now that we have the adopters animal, and adoption dataframes in good shape, we will merge them all into one dataframe called oar_data. \n",
    "\n",
    "# The adopters, animal, and adoption dataframes have three columns in common that we will use to merge: Adoption Number, Owner ID, and Animal ID."
   ]
  },
  {
   "cell_type": "code",
   "execution_count": null,
   "id": "05e42048",
   "metadata": {},
   "outputs": [],
   "source": [
    "oar_data = adoptions.merge(adopters, how='inner', on = ['ADOPTIONNUMBER', 'ANIMALID', 'OWNERID']).merge(animals, how='inner', on = ['ADOPTIONNUMBER', 'ANIMALID', 'OWNERID'])"
   ]
  },
  {
   "cell_type": "code",
   "execution_count": null,
   "id": "07689b30",
   "metadata": {},
   "outputs": [],
   "source": [
    "oar_data.info()"
   ]
  },
  {
   "cell_type": "markdown",
   "id": "db6e2099",
   "metadata": {},
   "source": [
    "### To check this, I am going to look up an adoption that I processed recently for a cat named Imogene. "
   ]
  },
  {
   "cell_type": "code",
   "execution_count": null,
   "id": "c725f960",
   "metadata": {},
   "outputs": [],
   "source": [
    "oar_data.loc[oar_data['ANIMALNAME'] == 'Imogene']"
   ]
  },
  {
   "cell_type": "markdown",
   "id": "4619726f",
   "metadata": {},
   "source": [
    "### Since I handled this adoption personally, I can verify that all the data is correct."
   ]
  },
  {
   "cell_type": "markdown",
   "id": "c57202a5",
   "metadata": {},
   "source": [
    "**Here's Imogene with her new Dad:**\n",
    "<div>\n",
    "<img src=\"./photos/imogene.jpeg\" width=\"200\"/>\n",
    "</div>"
   ]
  },
  {
   "cell_type": "markdown",
   "id": "0be4f449",
   "metadata": {},
   "source": [
    "---\n",
    "# Now we will analyze the data in the oar_data dataframe."
   ]
  },
  {
   "cell_type": "markdown",
   "id": "73b48ba7",
   "metadata": {},
   "source": [
    "### First, we will calculate a new field that will calulate the Time to Adoption as the Adoption Date - the Date the cat was originally brought in to the shelter. \n",
    "### However, if the cat was returned, the Time to Adoption is the Adoption Date - the Most Recent Entry Date. We will need to use a function to calculate this."
   ]
  },
  {
   "cell_type": "markdown",
   "id": "79751d7d",
   "metadata": {},
   "source": [
    "### To easily identify the retuned cats, we will add a flag for those who were returned."
   ]
  },
  {
   "cell_type": "code",
   "execution_count": null,
   "id": "65b0cbed",
   "metadata": {},
   "outputs": [],
   "source": [
    "oar_data['ADOPTIONDATE'] = oar_data['ADOPTIONDATE'].fillna('0')"
   ]
  },
  {
   "cell_type": "code",
   "execution_count": null,
   "id": "f05083d9",
   "metadata": {},
   "outputs": [],
   "source": [
    "oar_data['DATEBROUGHTIN'] = oar_data['DATEBROUGHTIN'].fillna('0')"
   ]
  },
  {
   "cell_type": "code",
   "execution_count": null,
   "id": "43fe753b",
   "metadata": {},
   "outputs": [],
   "source": [
    "oar_data['MOSTRECENTENTRYDATE'] = oar_data['MOSTRECENTENTRYDATE'].fillna('0')"
   ]
  },
  {
   "cell_type": "code",
   "execution_count": null,
   "id": "1e917e55",
   "metadata": {},
   "outputs": [],
   "source": [
    "def was_returned(return_date):\n",
    "    if return_date == 'None':\n",
    "        return \"Not returned\"\n",
    "    else:\n",
    "        return \"Returned\""
   ]
  },
  {
   "cell_type": "code",
   "execution_count": null,
   "id": "19656d94",
   "metadata": {},
   "outputs": [],
   "source": [
    "oar_data['RETURNED'] = oar_data['RETURNDATE'].apply(was_returned)"
   ]
  },
  {
   "cell_type": "code",
   "execution_count": null,
   "id": "383a588b",
   "metadata": {
    "scrolled": true
   },
   "outputs": [],
   "source": [
    "oar_data.head()"
   ]
  },
  {
   "cell_type": "code",
   "execution_count": null,
   "id": "7e17ee48",
   "metadata": {},
   "outputs": [],
   "source": [
    "# Function to calculate the time to adoption based on Returned status\n",
    "def time_to_adoption(return_status, adoption_date, entry_date, brought_in_date):\n",
    "    if return_status == 'Not returned':\n",
    "        return adoption_date - entry_date\n",
    "    else:\n",
    "        return adoption_date - brought_in_date"
   ]
  },
  {
   "cell_type": "code",
   "execution_count": null,
   "id": "6a3248bd",
   "metadata": {},
   "outputs": [],
   "source": [
    "#Using np.vectorize which is faster than df.apply\n",
    "oar_data['TIME_TO_ADOPTION'] = np.vectorize(time_to_adoption)(oar_data['RETURNED'], pd.to_datetime(oar_data['ADOPTIONDATE']), pd.to_datetime(oar_data['MOSTRECENTENTRYDATE']), pd.to_datetime(oar_data['DATEBROUGHTIN']))"
   ]
  },
  {
   "cell_type": "code",
   "execution_count": null,
   "id": "5b42934e",
   "metadata": {},
   "outputs": [],
   "source": [
    "oar_data['TIME_TO_ADOPTION'] = oar_data['TIME_TO_ADOPTION'].dt.days"
   ]
  },
  {
   "cell_type": "code",
   "execution_count": null,
   "id": "a06a842e",
   "metadata": {
    "scrolled": true
   },
   "outputs": [],
   "source": [
    "#set any negative values equal to 0\n",
    "oar_data.loc[oar_data['TIME_TO_ADOPTION'] < 0, 'TIME_TO_ADOPTION'] = 0"
   ]
  },
  {
   "cell_type": "code",
   "execution_count": null,
   "id": "424b6308",
   "metadata": {
    "scrolled": true
   },
   "outputs": [],
   "source": [
    "oar_data['TIME_TO_ADOPTION'].describe()"
   ]
  },
  {
   "cell_type": "markdown",
   "id": "969761b1",
   "metadata": {},
   "source": [
    "### Who is the cat who has a time to adoption of 5264 days?"
   ]
  },
  {
   "cell_type": "code",
   "execution_count": null,
   "id": "37bc92a1",
   "metadata": {},
   "outputs": [],
   "source": [
    "oar_data.loc[oar_data['TIME_TO_ADOPTION'] == 5264]"
   ]
  },
  {
   "cell_type": "code",
   "execution_count": null,
   "id": "60d20d03",
   "metadata": {
    "scrolled": true
   },
   "outputs": [],
   "source": [
    "oar_data.loc[oar_data['ANIMALNAME'] == 'Lewis']"
   ]
  },
  {
   "cell_type": "markdown",
   "id": "49bcc26f",
   "metadata": {},
   "source": [
    "### The date Lewis was brought into the shelter is listed as 1/1/01 which is surely incorrect. Someone must have entered this date as a placeholder because the original date was unknown."
   ]
  },
  {
   "cell_type": "markdown",
   "id": "40bfa407",
   "metadata": {},
   "source": [
    "### We will also check the results of our function by looking at a cat that was returned twice, named Danica Patrick."
   ]
  },
  {
   "cell_type": "code",
   "execution_count": null,
   "id": "4eeaee92",
   "metadata": {
    "scrolled": true
   },
   "outputs": [],
   "source": [
    "oar_data.loc[oar_data['ANIMALNAME'] == 'Danica Patrick']\n",
    "# I don't have a photo of Danica but she is a great cat and was returned due to no fault of her own."
   ]
  },
  {
   "cell_type": "markdown",
   "id": "c35c2a90",
   "metadata": {},
   "source": [
    "### We can see that our function doesn't work for the middle adoption, since the Most Recent Entry Date is overwritten in the database each time the cat is returned to the shelter. But the function works with the first and last adoptions, which is the best we can do here. "
   ]
  },
  {
   "cell_type": "markdown",
   "id": "e8cf01de",
   "metadata": {},
   "source": [
    "### We will add new fields for the Month and Year of the adoption. "
   ]
  },
  {
   "cell_type": "code",
   "execution_count": null,
   "id": "7c02256f",
   "metadata": {},
   "outputs": [],
   "source": [
    "oar_data['ADOPTION_MONTH'] = pd.to_datetime(oar_data['ADOPTIONDATE']).dt.month"
   ]
  },
  {
   "cell_type": "code",
   "execution_count": null,
   "id": "f4a6b789",
   "metadata": {},
   "outputs": [],
   "source": [
    "oar_data['ADOPTION_YEAR'] = pd.to_datetime(oar_data['ADOPTIONDATE']).dt.year"
   ]
  },
  {
   "cell_type": "code",
   "execution_count": null,
   "id": "369adc96",
   "metadata": {
    "scrolled": true
   },
   "outputs": [],
   "source": [
    "oar_data.head()"
   ]
  },
  {
   "cell_type": "markdown",
   "id": "f97ea75e",
   "metadata": {},
   "source": [
    "### And a field to calculate the age of the cat at the time of adoption."
   ]
  },
  {
   "cell_type": "code",
   "execution_count": null,
   "id": "1aabf98c",
   "metadata": {},
   "outputs": [],
   "source": [
    "oar_data['AGE_AT_ADOPTION'] = (pd.to_datetime(oar_data['ADOPTIONDATE']) - pd.to_datetime(oar_data['DATEOFBIRTH'])).dt.days"
   ]
  },
  {
   "cell_type": "code",
   "execution_count": null,
   "id": "8183fcc2",
   "metadata": {},
   "outputs": [],
   "source": [
    "oar_data.head()"
   ]
  },
  {
   "cell_type": "markdown",
   "id": "d76fd17d",
   "metadata": {},
   "source": [
    "---\n",
    "### Finally, we will save our complete dataset so that it can be used in Seaborn and Tableau."
   ]
  },
  {
   "cell_type": "code",
   "execution_count": null,
   "id": "d808bd5d",
   "metadata": {},
   "outputs": [],
   "source": [
    "oar_data.to_csv('./data/oar_data.csv')"
   ]
  },
  {
   "cell_type": "markdown",
   "id": "5ad542de",
   "metadata": {},
   "source": [
    "---\n",
    "### Now we will look at some group operations. First, the adoptions by year."
   ]
  },
  {
   "cell_type": "code",
   "execution_count": null,
   "id": "1bf61d42",
   "metadata": {},
   "outputs": [],
   "source": [
    "adoptions_by_year = oar_data.groupby('ADOPTION_YEAR').agg({'ADOPTIONNUMBER': 'count'})"
   ]
  },
  {
   "cell_type": "code",
   "execution_count": null,
   "id": "6d33f595",
   "metadata": {
    "scrolled": true
   },
   "outputs": [],
   "source": [
    "adoptions_by_year "
   ]
  },
  {
   "cell_type": "code",
   "execution_count": null,
   "id": "55d8728e",
   "metadata": {},
   "outputs": [],
   "source": [
    "adoptions_by_year_by_sex = oar_data.groupby(['ADOPTION_YEAR', 'SEX']).agg({'ADOPTIONNUMBER': 'count'})"
   ]
  },
  {
   "cell_type": "markdown",
   "id": "1598db18",
   "metadata": {},
   "source": [
    "### We can also look at the adoptions by month."
   ]
  },
  {
   "cell_type": "code",
   "execution_count": null,
   "id": "8f09d6ac",
   "metadata": {},
   "outputs": [],
   "source": [
    "adoptions_by_month = oar_data.groupby('ADOPTION_MONTH').agg({'ADOPTIONNUMBER': 'count'})"
   ]
  },
  {
   "cell_type": "code",
   "execution_count": null,
   "id": "2acd8192",
   "metadata": {
    "scrolled": false
   },
   "outputs": [],
   "source": [
    "adoptions_by_month"
   ]
  },
  {
   "cell_type": "markdown",
   "id": "20198858",
   "metadata": {},
   "source": [
    "### Adotions by year for Male and Female Cats"
   ]
  },
  {
   "cell_type": "code",
   "execution_count": null,
   "id": "15936322",
   "metadata": {
    "scrolled": true
   },
   "outputs": [],
   "source": [
    "adoptions_by_year_by_sex"
   ]
  },
  {
   "cell_type": "markdown",
   "id": "bb65f577",
   "metadata": {},
   "source": [
    "### Let's make a pivot table showing the adoptions by year and by month."
   ]
  },
  {
   "cell_type": "code",
   "execution_count": null,
   "id": "fcc8c349",
   "metadata": {
    "scrolled": true
   },
   "outputs": [],
   "source": [
    "pd.pivot_table(oar_data, index='ADOPTION_YEAR', values=['ADOPTIONNUMBER'], aggfunc='count', columns=['ADOPTION_MONTH'], fill_value = 0)"
   ]
  },
  {
   "cell_type": "markdown",
   "id": "c1b8e05a",
   "metadata": {},
   "source": [
    "### We can see the change in 2014, when the current OAR shelter location opened.\n",
    "---"
   ]
  },
  {
   "cell_type": "markdown",
   "id": "237e9545",
   "metadata": {},
   "source": [
    "### We will also load the data to Seaborn and make some graphs."
   ]
  },
  {
   "cell_type": "code",
   "execution_count": null,
   "id": "24c6c1ec",
   "metadata": {
    "scrolled": false
   },
   "outputs": [],
   "source": [
    "#Count of Adoptions by year\n",
    "sns.set_theme()\n",
    "plt.figure(dpi=150)\n",
    "sns.countplot(x ='ADOPTION_YEAR', data = oar_data)\n",
    "plt.xticks(rotation = 45)\n",
    "plt.title('Adoptions by Year')"
   ]
  },
  {
   "cell_type": "code",
   "execution_count": null,
   "id": "cf3aeacb",
   "metadata": {
    "scrolled": true
   },
   "outputs": [],
   "source": [
    "#Count of adoptions by year by sex\n",
    "sns.set_theme()\n",
    "plt.figure(dpi=150)\n",
    "sns.countplot(x = 'ADOPTION_YEAR', data = oar_data, hue = 'SEX')\n",
    "plt.xticks(rotation=45)\n",
    "plt.title('Adoptions by Year by Sex')"
   ]
  },
  {
   "cell_type": "code",
   "execution_count": null,
   "id": "ea12bcea",
   "metadata": {},
   "outputs": [],
   "source": [
    "#Count of adoptions by returned/unreturned status\n",
    "sns.set_theme()\n",
    "plt.figure(dpi=150)\n",
    "sns.countplot(x = 'ADOPTION_YEAR', data = oar_data, hue = 'RETURNED')\n",
    "plt.xticks(rotation=45)\n",
    "plt.title('Adoptions by Year by Return Status')"
   ]
  },
  {
   "cell_type": "markdown",
   "id": "8830202b",
   "metadata": {},
   "source": [
    "---\n",
    "## Next we will look at the adoption numbers by some characteristics such as breed, coloring, and shelter location.\n",
    "---\n",
    "\n",
    "### Adoptions by breed"
   ]
  },
  {
   "cell_type": "code",
   "execution_count": null,
   "id": "2b213063",
   "metadata": {},
   "outputs": [],
   "source": [
    "adoptions_by_breed = oar_data.groupby('BREEDNAME').agg({'ADOPTIONNUMBER': 'count'})"
   ]
  },
  {
   "cell_type": "code",
   "execution_count": null,
   "id": "0e1f4553",
   "metadata": {
    "scrolled": true
   },
   "outputs": [],
   "source": [
    "adoptions_by_breed.sort_values('ADOPTIONNUMBER', ascending = False)"
   ]
  },
  {
   "cell_type": "code",
   "execution_count": null,
   "id": "50d9b15b",
   "metadata": {},
   "outputs": [],
   "source": [
    "#Count of adoptions by breed\n",
    "sns.set_theme()\n",
    "plt.figure(dpi=150)\n",
    "sns.countplot(x = 'BREEDNAME', data = oar_data)\n",
    "plt.xticks(rotation=90)\n",
    "plt.title('Adoptions by Breed')"
   ]
  },
  {
   "cell_type": "markdown",
   "id": "d91aa0dd",
   "metadata": {},
   "source": [
    "### Adoptions by Coloring"
   ]
  },
  {
   "cell_type": "code",
   "execution_count": null,
   "id": "0ed7b927",
   "metadata": {},
   "outputs": [],
   "source": [
    "adoptions_by_color = oar_data.groupby(oar_data['BASECOLOUR']).agg({'ADOPTIONNUMBER': 'count'})"
   ]
  },
  {
   "cell_type": "code",
   "execution_count": null,
   "id": "601f1482",
   "metadata": {
    "scrolled": true
   },
   "outputs": [],
   "source": [
    "adoptions_by_color.sort_values('ADOPTIONNUMBER', ascending = False)"
   ]
  },
  {
   "cell_type": "code",
   "execution_count": null,
   "id": "0a84944e",
   "metadata": {},
   "outputs": [],
   "source": [
    "#Count of adoptions by coloring\n",
    "sns.set_theme()\n",
    "plt.figure(dpi=150)\n",
    "sns.countplot(x = 'BASECOLOUR', data = oar_data)\n",
    "plt.xticks(rotation=90)\n",
    "plt.title('Adoptions by Coloring')"
   ]
  },
  {
   "cell_type": "markdown",
   "id": "c921b04d",
   "metadata": {},
   "source": [
    "### Adoptions by Shelter Location"
   ]
  },
  {
   "cell_type": "code",
   "execution_count": null,
   "id": "110b4690",
   "metadata": {},
   "outputs": [],
   "source": [
    "adoptions_by_location = oar_data.groupby('LOCATIONNAME').agg({'ADOPTIONNUMBER': 'count'})"
   ]
  },
  {
   "cell_type": "code",
   "execution_count": null,
   "id": "5b6c9784",
   "metadata": {
    "scrolled": true
   },
   "outputs": [],
   "source": [
    "adoptions_by_location.sort_values('ADOPTIONNUMBER', ascending = False)"
   ]
  },
  {
   "cell_type": "code",
   "execution_count": null,
   "id": "0b028803",
   "metadata": {},
   "outputs": [],
   "source": [
    "#Count of adoptions by shelter location\n",
    "sns.set_theme()\n",
    "plt.figure(dpi=150)\n",
    "sns.countplot(x = 'LOCATIONNAME', data = oar_data)\n",
    "plt.xticks(rotation=90)\n",
    "plt.title('Adoptions by Shelter Location')"
   ]
  },
  {
   "cell_type": "markdown",
   "id": "31ddfa5f",
   "metadata": {},
   "source": [
    "### Next we will look at the adoptions by year for cats who have Feline Leukemia Virus (FELV) and Feline Immunodeficiency Virus (FIV). \n",
    "\n",
    "### Cats with FELV must be isolated in the shelter and can only live with other cats who have FELV or other animals, since FELV is a serious illness that can be spread through casual contact such as sharing food and water bowls. \n",
    "\n",
    "### Cats with FIV can live with cats who do not have FIV since it is considered a less serious illness, generally does not affect the cat's life span, and is not spread through casual contact. "
   ]
  },
  {
   "cell_type": "code",
   "execution_count": null,
   "id": "6df4efe9",
   "metadata": {
    "scrolled": false
   },
   "outputs": [],
   "source": [
    "pd.pivot_table(oar_data, index=['FELV_STATUS','FIV_STATUS'], values=['ADOPTIONNUMBER'], aggfunc='count', columns=['ADOPTION_YEAR'], fill_value = 0)"
   ]
  },
  {
   "cell_type": "markdown",
   "id": "2d37ab16",
   "metadata": {},
   "source": [
    "### Finally we will look at how the age of the cat interacts with the time spent in the shelter. "
   ]
  },
  {
   "cell_type": "code",
   "execution_count": null,
   "id": "2552a493",
   "metadata": {
    "scrolled": true
   },
   "outputs": [],
   "source": [
    "#Age at adoption vs. Days spent in shelter\n",
    "sns.set_theme()\n",
    "plt.figure(dpi=200)\n",
    "plt.title('Age in Days at Adoption vs. Days Spent in Shelter')\n",
    "sns.scatterplot(data=oar_data, x='AGE_AT_ADOPTION', y='TIME_TO_ADOPTION')"
   ]
  },
  {
   "cell_type": "markdown",
   "id": "b01c1533",
   "metadata": {},
   "source": [
    "### Even though we know some of the high values may be due to data entry errors, this still gives us a good impression of how the time to adoption generally increases with age. "
   ]
  },
  {
   "cell_type": "markdown",
   "id": "f4985cf1",
   "metadata": {},
   "source": [
    "### Next we will take it over to Tableau!"
   ]
  },
  {
   "cell_type": "code",
   "execution_count": null,
   "id": "e68dc5fb",
   "metadata": {},
   "outputs": [],
   "source": []
  }
 ],
 "metadata": {
  "kernelspec": {
   "display_name": "Python 3 (ipykernel)",
   "language": "python",
   "name": "python3"
  },
  "language_info": {
   "codemirror_mode": {
    "name": "ipython",
    "version": 3
   },
   "file_extension": ".py",
   "mimetype": "text/x-python",
   "name": "python",
   "nbconvert_exporter": "python",
   "pygments_lexer": "ipython3",
   "version": "3.9.7"
  },
  "vscode": {
   "interpreter": {
    "hash": "281ab9c3b99917f180e639c9d81c43c098927110782e4032b2ae327a8e3f13f5"
   }
  }
 },
 "nbformat": 4,
 "nbformat_minor": 5
}
